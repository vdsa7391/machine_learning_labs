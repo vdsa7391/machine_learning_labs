{
  "cells": [
    {
      "cell_type": "markdown",
      "metadata": {
        "id": "AzDBM_v4iMe7"
      },
      "source": [
        "# PyTorch Fundamentals Exercises\n",
        "\n",
        "\n"
      ]
    },
    {
      "cell_type": "markdown",
      "metadata": {
        "id": "__iXqqz-ioUJ"
      },
      "source": [
        "### 2. Create a random tensor with shape `(7, 7)`.\n"
      ]
    },
    {
      "cell_type": "code",
      "source": [
        "import torch"
      ],
      "metadata": {
        "id": "Rj7bfpJyyFRW"
      },
      "execution_count": 24,
      "outputs": []
    },
    {
      "cell_type": "code",
      "execution_count": 25,
      "metadata": {
        "id": "6pUq9Dc8i2L7",
        "colab": {
          "base_uri": "https://localhost:8080/"
        },
        "collapsed": true,
        "outputId": "4f6c420a-509f-4fd7-a741-c8ae18613d8e"
      },
      "outputs": [
        {
          "output_type": "stream",
          "name": "stdout",
          "text": [
            "tensor([[-2.4671,  0.4248, -1.2529,  0.4309, -0.9580, -0.8318,  0.1962],\n",
            "        [-0.0252, -1.1707, -0.2834, -1.3214, -0.9780, -0.1360, -1.6783],\n",
            "        [ 2.0703,  0.0820, -1.4860, -0.3452, -1.3623,  0.2400,  0.1002],\n",
            "        [-1.5199,  0.9977,  0.7741, -1.4258,  0.9582,  0.3677,  0.2026],\n",
            "        [ 1.0546,  1.7548,  1.8139,  1.3542, -1.4830,  1.0180, -1.1450],\n",
            "        [-0.4791, -0.5430, -0.6630,  1.1805, -1.2366,  0.4431,  0.3511],\n",
            "        [ 1.6226, -0.6695, -0.6017,  0.1842, -1.5052,  0.7585,  0.6732]])\n"
          ]
        }
      ],
      "source": [
        "# Create random tensor\n",
        "\n",
        "t1= torch.randn(7,7);\n",
        "print(t1)"
      ]
    },
    {
      "cell_type": "markdown",
      "metadata": {
        "id": "9-XxvRLfiqkR"
      },
      "source": [
        "### 3. Perform a matrix multiplication on the tensor from 2 with another random tensor with shape `(1, 7)` (hint: you may have to transpose the second tensor)."
      ]
    },
    {
      "cell_type": "markdown",
      "source": [],
      "metadata": {
        "id": "JoVZ46X4kT8n"
      }
    },
    {
      "cell_type": "code",
      "execution_count": null,
      "metadata": {
        "id": "NcLqR0Sbi_vT"
      },
      "outputs": [],
      "source": [
        "# Create another random tensor\n",
        "\n",
        "t1 = torch.randn(3, 4)\n",
        "t2 = torch.randn(4, 5)\n",
        "\n",
        "# If you need to transpose, do it like this (only if needed)\n",
        "t2_transposed = t2.transpose(0, 1)  # This changes shape from [4,5] to [5,4]\n",
        "print(t2_transposed.shape)\n",
        "\n",
        "# Perform matrix multiplication\n",
        "result = torch.matmul(t1, t2)  # t1 shape: [3,4], t2 shape: [4,5] -> Result: [3,5]\n",
        "print(result.shape)  # Output: torch.Size([3, 5])\n",
        "print(result)\n",
        "\n"
      ]
    },
    {
      "cell_type": "markdown",
      "metadata": {
        "id": "eiutdKUFiryU"
      },
      "source": [
        "### 4. Set the random seed to `0` and do 2 & 3 over again.\n",
        "\n",
        "The output should be:\n",
        "```\n",
        "(tensor([[1.8542],\n",
        "         [1.9611],\n",
        "         [2.2884],\n",
        "         [3.0481],\n",
        "         [1.7067],\n",
        "         [2.5290],\n",
        "         [1.7989]]), torch.Size([7, 1]))\n",
        "```"
      ]
    },
    {
      "cell_type": "code",
      "execution_count": 31,
      "metadata": {
        "id": "D-lOWI_1jRMm",
        "colab": {
          "base_uri": "https://localhost:8080/"
        },
        "outputId": "505df964-aa1c-4e5e-e3ab-b3d04b482d96"
      },
      "outputs": [
        {
          "output_type": "stream",
          "name": "stdout",
          "text": [
            "tensor([[-2.5474],\n",
            "        [-1.4000],\n",
            "        [-0.2194],\n",
            "        [ 0.6654],\n",
            "        [-0.3328],\n",
            "        [-2.8274],\n",
            "        [ 0.5287]])\n"
          ]
        }
      ],
      "source": [
        "# Set manual seed\n",
        "torch.manual_seed(0);\n",
        "\n",
        "# Create two random tensors\n",
        "t1= torch.randn(7,4);\n",
        "t2= torch.randn(4,1);\n",
        "\n",
        "# Matrix multiply tensors\n",
        "result=torch.matmul(t1,t2);\n",
        "print(result)\n"
      ]
    },
    {
      "cell_type": "markdown",
      "metadata": {
        "id": "ezY6ks9Cis37"
      },
      "source": [
        "### 5. Speaking of random seeds, we saw how to set it with `torch.manual_seed()` but is there a GPU equivalent? (hint: you'll need to look into the documentation for `torch.cuda` for this one)\n",
        "  * If there is, set the GPU random seed to `1234`."
      ]
    },
    {
      "cell_type": "code",
      "execution_count": 37,
      "metadata": {
        "id": "_LKWcfSTjp00",
        "colab": {
          "base_uri": "https://localhost:8080/"
        },
        "outputId": "4ac5a4ea-7923-4cdc-e551-0a94341b491d"
      },
      "outputs": [
        {
          "output_type": "stream",
          "name": "stdout",
          "text": [
            "True\n",
            "tensor([[-1.6165],\n",
            "        [ 0.5685],\n",
            "        [-0.5102],\n",
            "        [-0.9113],\n",
            "        [-1.1555],\n",
            "        [-0.2262],\n",
            "        [-1.2891]], device='cuda:0')\n"
          ]
        }
      ],
      "source": [
        "# Set random seed on the GPU\n",
        "print(torch.cuda.is_available())\n",
        "torch.cuda.manual_seed(1234)\n",
        "t3=torch.randn(7,1, device='cuda:0');\n",
        "print(t3)\n"
      ]
    },
    {
      "cell_type": "markdown",
      "metadata": {
        "id": "Ir9qSaj6it4n"
      },
      "source": [
        "\n",
        "### 6. Create two random tensors of shape `(2, 3)` and send them both to the GPU (you'll need access to a GPU for this). Set `torch.manual_seed(1234)` when creating the tensors (this doesn't have to be the GPU random seed). The output should be something like:\n",
        "\n",
        "```\n",
        "Device: cuda\n",
        "(tensor([[0.0290, 0.4019, 0.2598],\n",
        "         [0.3666, 0.0583, 0.7006]], device='cuda:0'),\n",
        " tensor([[0.0518, 0.4681, 0.6738],\n",
        "         [0.3315, 0.7837, 0.5631]], device='cuda:0'))\n",
        "```"
      ]
    },
    {
      "cell_type": "code",
      "execution_count": 40,
      "metadata": {
        "id": "azXExiFZj5nm",
        "colab": {
          "base_uri": "https://localhost:8080/"
        },
        "outputId": "0f6f2c80-5391-4db0-ddaa-b02baf3cc79d"
      },
      "outputs": [
        {
          "output_type": "stream",
          "name": "stdout",
          "text": [
            "True\n",
            "cuda:0\n",
            "tensor([[0.0290, 0.4019, 0.2598],\n",
            "        [0.3666, 0.0583, 0.7006]], device='cuda:0')\n",
            "tensor([[0.0518, 0.4681, 0.6738],\n",
            "        [0.3315, 0.7837, 0.5631]], device='cuda:0')\n"
          ]
        }
      ],
      "source": [
        "# Set random seed\n",
        "torch.manual_seed(1234)\n",
        "\n",
        "# Check for access to GPU\n",
        "print(torch.cuda.is_available());\n",
        "\n",
        "# Create two random tensors on GPU\n",
        "t4=torch.tensor([[0.0290, 0.4019, 0.2598],\n",
        "         [0.3666, 0.0583, 0.7006]],device=\"cuda:0\");\n",
        "\n",
        "t5=torch.tensor([[0.0518, 0.4681, 0.6738],\n",
        "         [0.3315, 0.7837, 0.5631]],device=\"cuda:0\");\n",
        "\n",
        "print(t4.device)\n",
        "print(t4)\n",
        "print(t5)\n",
        "\n"
      ]
    },
    {
      "cell_type": "code",
      "source": [
        "\n",
        "# Set the manual seed for reproducibility\n",
        "torch.manual_seed(1234)\n",
        "\n",
        "# Check if GPU is available\n",
        "if torch.cuda.is_available():\n",
        "    # Create two random tensors of shape (2, 3) on the CPU\n",
        "    t4=torch.tensor([[0.0290, 0.4019, 0.2598],\n",
        "         [0.3666, 0.0583, 0.7006]]);\n",
        "\n",
        "    t5=torch.tensor([[0.0518, 0.4681, 0.6738],\n",
        "         [0.3315, 0.7837, 0.5631]]);\n",
        "\n",
        "    # Send tensors to GPU\n",
        "    t4 = t4.to('cuda')  # Move tensor t1 to GPU\n",
        "    t5 = t5.to('cuda')  # Move tensor t2 to GPU\n",
        "\n",
        "    # Print the tensors and their device\n",
        "    print(\"Tensor 1:\", t4)\n",
        "    print(\"Tensor 2:\", t5)\n",
        "    print(\"t4.device:\", t4.device)  # Should show 'cuda:0'\n",
        "    print(\"t5.device:\", t5.device)  # Should show 'cuda:0'\n",
        "else:\n",
        "    print(\"GPU is not available.\")\n"
      ],
      "metadata": {
        "colab": {
          "base_uri": "https://localhost:8080/"
        },
        "id": "dektsdqJ1ez_",
        "outputId": "d020c4b4-a940-4a48-94ae-e6fdacce2dbe"
      },
      "execution_count": 55,
      "outputs": [
        {
          "output_type": "stream",
          "name": "stdout",
          "text": [
            "Tensor 1: tensor([[0.0290, 0.4019, 0.2598],\n",
            "        [0.3666, 0.0583, 0.7006]], device='cuda:0')\n",
            "Tensor 2: tensor([[0.0518, 0.4681, 0.6738],\n",
            "        [0.3315, 0.7837, 0.5631]], device='cuda:0')\n",
            "t4.device: cuda:0\n",
            "t5.device: cuda:0\n"
          ]
        }
      ]
    },
    {
      "cell_type": "markdown",
      "metadata": {
        "id": "5TlAxeiSiu1y"
      },
      "source": [
        "\n",
        "### 7. Perform a matrix multiplication on the tensors you created in 6 (again, you may have to adjust the shapes of one of the tensors).\n",
        "\n",
        "The output should look like:\n",
        "```\n",
        "(tensor([[0.3647, 0.4709],\n",
        "         [0.5184, 0.5617]], device='cuda:0'), torch.Size([2, 2]))\n",
        "```"
      ]
    },
    {
      "cell_type": "code",
      "execution_count": 59,
      "metadata": {
        "id": "fAeG7ox0lHEO",
        "colab": {
          "base_uri": "https://localhost:8080/"
        },
        "outputId": "17dabc05-c7e9-43af-bc80-6e949ca012a9"
      },
      "outputs": [
        {
          "output_type": "stream",
          "name": "stdout",
          "text": [
            "tensor([[0.3647, 0.4709],\n",
            "        [0.5183, 0.5617]], device='cuda:0')\n",
            "torch.Size([2, 2])\n"
          ]
        }
      ],
      "source": [
        "# Perform matmul on tensor_A and tensor_B\n",
        "\n",
        "t5_transpose= t5.transpose(0,1)\n",
        "result=torch.matmul(t4,t5_transpose)\n",
        "print(result)\n",
        "print(result.size())\n"
      ]
    },
    {
      "cell_type": "markdown",
      "metadata": {
        "id": "G7qfa5CSivwg"
      },
      "source": [
        "### 8. Find the maximum and minimum values of the output of 7."
      ]
    },
    {
      "cell_type": "code",
      "execution_count": 61,
      "metadata": {
        "id": "Fu8_3mZpllOd",
        "colab": {
          "base_uri": "https://localhost:8080/"
        },
        "outputId": "ba564dba-ca20-4be2-d5f1-bc6a958fca66"
      },
      "outputs": [
        {
          "output_type": "stream",
          "name": "stdout",
          "text": [
            "tensor(0.5617, device='cuda:0')\n",
            "tensor(0.3647, device='cuda:0')\n"
          ]
        }
      ],
      "source": [
        "# Find max\n",
        "print(result.max())\n",
        "print(result.min())\n",
        "\n",
        "# Find min\n"
      ]
    },
    {
      "cell_type": "markdown",
      "metadata": {
        "id": "wrTj5FgNiw47"
      },
      "source": [
        "### 9. Find the maximum and minimum index values of the output of 7."
      ]
    },
    {
      "cell_type": "code",
      "execution_count": 62,
      "metadata": {
        "id": "CCEKt4K2lsfQ",
        "colab": {
          "base_uri": "https://localhost:8080/"
        },
        "outputId": "d61e1f66-4ad5-46c9-b60b-180876722aaa"
      },
      "outputs": [
        {
          "output_type": "stream",
          "name": "stdout",
          "text": [
            "tensor(3, device='cuda:0')\n",
            "tensor(0, device='cuda:0')\n"
          ]
        }
      ],
      "source": [
        "# Find arg max\n",
        "print(result.argmax())\n",
        "print(result.argmin())\n",
        "\n",
        "# Find arg min\n"
      ]
    },
    {
      "cell_type": "markdown",
      "metadata": {
        "id": "hmeybz4uixy7"
      },
      "source": [
        "\n",
        "### 10. Make a random tensor with shape `(1, 1, 1, 10)` and then create a new tensor with all the `1` dimensions removed to be left with a tensor of shape `(10)`. Set the seed to `7` when you create it and print out the first tensor and it's shape as well as the second tensor and it's shape.\n",
        "\n",
        "The output should look like:\n",
        "\n",
        "```\n",
        "tensor([[[[0.5349, 0.1988, 0.6592, 0.6569, 0.2328, 0.4251, 0.2071, 0.6297,\n",
        "           0.3653, 0.8513]]]]) torch.Size([1, 1, 1, 10])\n",
        "tensor([0.5349, 0.1988, 0.6592, 0.6569, 0.2328, 0.4251, 0.2071, 0.6297, 0.3653,\n",
        "        0.8513]) torch.Size([10])\n",
        "```"
      ]
    },
    {
      "cell_type": "code",
      "execution_count": 64,
      "metadata": {
        "id": "TQ9zbRzVl1jV",
        "colab": {
          "base_uri": "https://localhost:8080/"
        },
        "outputId": "49f11e00-13e5-4f8f-8d49-8a8ef510fd41"
      },
      "outputs": [
        {
          "output_type": "stream",
          "name": "stdout",
          "text": [
            "tensor 6:  tensor([[[[-0.1468,  0.7861,  0.9468, -1.1143,  1.6908, -0.8948, -0.3556,\n",
            "            1.2324,  0.1382, -1.6822]]]])\n",
            "tensor 7:  tensor([-0.1468,  0.7861,  0.9468, -1.1143,  1.6908, -0.8948, -0.3556,  1.2324,\n",
            "         0.1382, -1.6822])\n",
            "shape tensor 6:  torch.Size([1, 1, 1, 10])\n",
            "shape tensor 7:  torch.Size([10])\n"
          ]
        }
      ],
      "source": [
        "# Set seed\n",
        "torch.manual_seed(7)\n",
        "\n",
        "# Create random tensor\n",
        "t6=torch.randn(1,1,1,10)\n",
        "\n",
        "# Remove single dimensions\n",
        "t7=t6.reshape(10,)\n",
        "\n",
        "# Print out tensors and their shapes\n",
        "print(\"tensor 6: \",t6)\n",
        "print(\"tensor 7: \",t7)\n",
        "print(\"shape tensor 6: \",t6.shape)\n",
        "print(\"shape tensor 7: \",t7.shape)\n"
      ]
    }
  ],
  "metadata": {
    "accelerator": "GPU",
    "colab": {
      "provenance": []
    },
    "kernelspec": {
      "display_name": "Python 3 (ipykernel)",
      "language": "python",
      "name": "python3"
    },
    "language_info": {
      "codemirror_mode": {
        "name": "ipython",
        "version": 3
      },
      "file_extension": ".py",
      "mimetype": "text/x-python",
      "name": "python",
      "nbconvert_exporter": "python",
      "pygments_lexer": "ipython3",
      "version": "3.9.16"
    }
  },
  "nbformat": 4,
  "nbformat_minor": 0
}